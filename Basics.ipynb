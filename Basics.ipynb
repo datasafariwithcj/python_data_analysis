{
 "cells": [
  {
   "cell_type": "markdown",
   "id": "1d7fe752-9c91-4215-b5cc-286d370acf66",
   "metadata": {},
   "source": [
    "# Comments"
   ]
  },
  {
   "cell_type": "markdown",
   "id": "eb0bc6fe-3f00-4a64-8433-79651104c6b9",
   "metadata": {},
   "source": [
    "- A comment is a line of text ignored by Python.\n",
    "- Use a hashtag/octothorpe (#) to create a comment.\n",
    "- Press **Ctrl + /** to comment out a block of code."
   ]
  },
  {
   "cell_type": "markdown",
   "id": "7de49223-7e5d-40f8-9bcd-982ec34fbe74",
   "metadata": {},
   "source": [
    "# Basic Data Types"
   ]
  },
  {
   "cell_type": "markdown",
   "id": "82fcfc45-ca45-430d-84b6-7c5e95025a8e",
   "metadata": {},
   "source": [
    "- An **integer** is a whole number.\n",
    "- A **floating-point** number is one with a fractional or decimal component.\n",
    "- A **string** is a piece of text. It's a collection of characters.\n",
    "- An empty string has a length of 0 characters.\n",
    "- A **Boolean** is a type whose value can only be True or False.\n",
    "- None is a special Python type that represents nothingness, blankness, or the absence of a value."
   ]
  },
  {
   "cell_type": "markdown",
   "id": "cf646055-a2a1-41d4-86d1-8adbccde0da3",
   "metadata": {},
   "source": [
    "# Operators"
   ]
  },
  {
   "cell_type": "markdown",
   "id": "142c9442-015b-4f9d-8fdc-c46e182eb637",
   "metadata": {},
   "source": [
    "- The floor division operator (//) leaves off the floating point portion of a division result.\n",
    "- The + operator performs concatenation and the * operator perfroms repetitions, when used with strings.\n",
    "- The equality operator (==) returns True if two values are equal to each other.\n",
    "- The inequality operator (!=) returns True if two values are unequal to each other.\n",
    "- PEMDAS - Parentheses, Exponents, Multiplication/Division, Addition/Subtraction\n",
    "- % Modulo operator - returns the remainder of a division"
   ]
  },
  {
   "cell_type": "markdown",
   "id": "013d38a6-a719-4407-a1a2-c11414661b69",
   "metadata": {},
   "source": [
    "# Built-in Functions"
   ]
  },
  {
   "cell_type": "markdown",
   "id": "2eeaff07-b56b-4b5c-bf47-a3fe24ae4c74",
   "metadata": {},
   "source": [
    "- A function is a repeatable procedure.\n",
    "- A function can accept inputs (which are called arguments).\n",
    "- A function produces a return value, which is the \"output\" of the function.\n",
    "- The technical term for running/executing a function is \"invoking\" or \"calling\".\n",
    "- Invoke a function with a pair of parentheses.\n",
    "- The `len` function returns the length of its argument.\n",
    "- The `str` function converts its argument to a string.\n",
    "- The `int` function converts its argument to an integer.\n",
    "- The `float` function converts its argument to a floating-point.\n",
    "- The `type` function returns the type of its argument (the kind of value it is)."
   ]
  },
  {
   "cell_type": "markdown",
   "id": "a4b85dda-60c9-40c8-87c3-fb4ee4c0e5d5",
   "metadata": {},
   "source": [
    "# Custom Functions"
   ]
  },
  {
   "cell_type": "markdown",
   "id": "94ff3546-7d2f-4e65-b224-7dc40316bfdc",
   "metadata": {},
   "source": [
    "- Define a function with the `def` keyword, *a name*, *a parameter list*, and *a colon*.\n",
    "- Functions names should follow a snake_case naming convention.\n",
    "- A *parameter* is a name for an expected input.\n",
    "- Write the function's logic inside a nested block. The end of the block marks the end of the function logic.\n",
    "- **Variables** declared inside a function body will only last as long as the function runs.\n",
    "- Use the `return` keyword to specify the function's return value (output).\n",
    "- When invoking a function, we can pass in argument sequentially or with explicit parameter names.\n",
    "- A `default` argument is a fallback value that Python will provide if an argument is not passed for a parameter during invocation."
   ]
  },
  {
   "cell_type": "markdown",
   "id": "8ac50f1b-8375-4489-b3a3-74f54cfcad7d",
   "metadata": {},
   "source": [
    "# String Methods"
   ]
  },
  {
   "cell_type": "markdown",
   "id": "2ab2d4e8-966b-494f-ba8f-eca21b8a0d4f",
   "metadata": {},
   "source": [
    "- Common string methods include `upper`, `lower`, `swapcase`, `title`, `capitalize`, `strip`, `lstrip`, `rstrip`, `replace`\n",
    "- Method chaining refers to invoking methods on objects returned by previous method invocations. We create a link or \"chain\" of methods.\n",
    "- The `in` and `not in` keywords check for the presence and absence of a substring within a string."
   ]
  },
  {
   "cell_type": "markdown",
   "id": "68c1b332-7e47-48fe-ae57-860320e41179",
   "metadata": {},
   "source": [
    "# List"
   ]
  },
  {
   "cell_type": "markdown",
   "id": "fc8b2859-78fd-46ea-8a0d-096f9e0a565a",
   "metadata": {},
   "source": [
    "- A list is a mutable data structure that holds an **ordered collection** of values.\n",
    "- We often use the term element to describe an item in the list.\n",
    "- The length of a list is its number of elements.\n",
    "- The `append` method adds an element to the end of the list.\n",
    "- The `pop` methods remove the last element from the list.\n",
    "- The `in` and `not in` keywords check whether or not an element exists within a list."
   ]
  },
  {
   "cell_type": "markdown",
   "id": "052f18d8-6ebd-4055-9b43-41a9080438f6",
   "metadata": {},
   "source": [
    "# Dictionary"
   ]
  },
  {
   "cell_type": "markdown",
   "id": "4c4a7c6d-c296-4b57-b6f7-029ff23cdbad",
   "metadata": {},
   "source": [
    "- A dictionary is a mutable, unordered collection of key-value pairs.\n",
    "- A key is a unique identifier for a value.\n",
    "- The values can contain duplicates.\n",
    "- Use a dictionary for **association** (i.e., to connect/map two values together). Use a list for **order**.\n",
    "- Declare a dictionary with a pair of curly braces.\n",
    "- Write a colon between every key and value.\n",
    "- Separate each key-value pair with a comma and a space.\n",
    "- The length of a dictionary is a count of its key-value pairs.\n",
    "- To get a value **Dictionary[key]**\n",
    "- To use pop method on a Dictionary **Dictionary.pop(key)**"
   ]
  },
  {
   "cell_type": "markdown",
   "id": "de7a182c-97be-4afa-9264-9a4e657b3623",
   "metadata": {},
   "source": [
    "# Class"
   ]
  },
  {
   "cell_type": "markdown",
   "id": "1525b27f-7f0a-46c9-9a61-f0f3ba3d53c6",
   "metadata": {},
   "source": [
    "- A class is a blueprint/template for creating objects.\n",
    "- A class defines the methods/functionalities that objects made from it will have.\n",
    "- An object is called an instance of the class it is made from.\n",
    "- The act of creating an object from a class is called instantiation.\n",
    "- Every time we've worked with a Python object, it's been \"instantiated\" from a class.\n",
    "- Syntax options like \"\" or [] or {} are shortcuts for instantiation.\n",
    "- For other classes, we'll need to use class() syntax to instantiate an object.\n",
    "- Much like functions and methods, some class instantiations will require arguments."
   ]
  },
  {
   "cell_type": "code",
   "execution_count": null,
   "id": "66c06958-2f05-4886-8d18-707b05b9524a",
   "metadata": {},
   "outputs": [],
   "source": []
  },
  {
   "cell_type": "code",
   "execution_count": null,
   "id": "c16d38e5-96fc-4659-900a-4a37733afa5d",
   "metadata": {},
   "outputs": [],
   "source": []
  },
  {
   "cell_type": "code",
   "execution_count": null,
   "id": "614eab23-78dc-4d54-adac-7562d76e5e48",
   "metadata": {},
   "outputs": [],
   "source": []
  }
 ],
 "metadata": {
  "kernelspec": {
   "display_name": "Python 3 (ipykernel)",
   "language": "python",
   "name": "python3"
  },
  "language_info": {
   "codemirror_mode": {
    "name": "ipython",
    "version": 3
   },
   "file_extension": ".py",
   "mimetype": "text/x-python",
   "name": "python",
   "nbconvert_exporter": "python",
   "pygments_lexer": "ipython3",
   "version": "3.13.0"
  }
 },
 "nbformat": 4,
 "nbformat_minor": 5
}
